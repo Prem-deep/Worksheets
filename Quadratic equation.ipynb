{
 "cells": [
  {
   "cell_type": "code",
   "execution_count": 1,
   "metadata": {},
   "outputs": [],
   "source": [
    "from math import sqrt"
   ]
  },
  {
   "cell_type": "code",
   "execution_count": 6,
   "metadata": {},
   "outputs": [
    {
     "name": "stdout",
     "output_type": "stream",
     "text": [
      "Quadratic function : (a * x^2) + b*x + c\n",
      "a: 5\n",
      "b: 20\n",
      "c: 10\n",
      "Two roots: -0.585786 and -3.414214\n"
     ]
    }
   ],
   "source": [
    "print(\"Quadratic Equation for (a * x^2) + b*x + c\")\n",
    "a = float(input(\"a: \"))\n",
    "b = float(input(\"b: \"))\n",
    "c = float(input(\"c: \"))\n",
    "\n",
    "d = b**2 - 4*a*c\n",
    "\n",
    "if a == 0:\n",
    "    print(\"a can not be zero(zeroDivisionError)\")\n",
    "\n",
    "if d > 0:\n",
    "    num_roots = 2\n",
    "    x1 = (((-b) + sqrt(d))/(2*a))     \n",
    "    x2 = (((-b) - sqrt(d))/(2*a))\n",
    "    print(\"Two roots: %f and %f\" % (x1, x2))\n",
    "elif d == 0:\n",
    "    num_roots = 1\n",
    "    x = (-b) / 2*a\n",
    "    print(\"One root: \", x)\n",
    "else:\n",
    "    num_roots = 0\n",
    "    print(\"No roots, .\")\n",
    "    exit()\n",
    "\n"
   ]
  },
  {
   "cell_type": "code",
   "execution_count": null,
   "metadata": {},
   "outputs": [],
   "source": []
  }
 ],
 "metadata": {
  "kernelspec": {
   "display_name": "Python 3",
   "language": "python",
   "name": "python3"
  },
  "language_info": {
   "codemirror_mode": {
    "name": "ipython",
    "version": 3
   },
   "file_extension": ".py",
   "mimetype": "text/x-python",
   "name": "python",
   "nbconvert_exporter": "python",
   "pygments_lexer": "ipython3",
   "version": "3.8.3"
  }
 },
 "nbformat": 4,
 "nbformat_minor": 4
}
